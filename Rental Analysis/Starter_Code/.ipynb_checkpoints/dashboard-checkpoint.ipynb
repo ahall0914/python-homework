{
 "cells": [
  {
   "cell_type": "markdown",
   "metadata": {},
   "source": [
    "# San Francisco Rental Prices Dashboard\n",
    "\n",
    "In this notebook, you will compile the visualizations from the previous analysis into functions that can be used for a Panel dashboard."
   ]
  },
  {
   "cell_type": "code",
   "execution_count": null,
   "metadata": {},
   "outputs": [],
   "source": [
    "# imports\n",
    "import panel as pn\n",
    "pn.extension('plotly')\n",
    "import plotly.express as px\n",
    "import pandas as pd\n",
    "import hvplot.pandas\n",
    "import matplotlib.pyplot as plt\n",
    "import os\n",
    "from pathlib import Path\n",
    "from dotenv import load_dotenv"
   ]
  },
  {
   "cell_type": "code",
   "execution_count": null,
   "metadata": {},
   "outputs": [],
   "source": [
    "# Read the Mapbox API key\n",
    "load_dotenv()\n",
    "mapbox_token = os.getenv(\"MAPBOX_API_KEY\")\n",
    "px.set_mapbox_access_token(mapbox_token)"
   ]
  },
  {
   "cell_type": "markdown",
   "metadata": {},
   "source": [
    "# Import Data"
   ]
  },
  {
   "cell_type": "code",
   "execution_count": null,
   "metadata": {},
   "outputs": [],
   "source": [
    "# Import the CSVs to Pandas DataFrames\n",
    "file_path = Path(\"Data/sfo_neighborhoods_census_data.csv\")\n",
    "sfo_data = pd.read_csv(file_path, index_col=\"year\")\n",
    "\n",
    "file_path = Path(\"Data/neighborhoods_coordinates.csv\")\n",
    "df_neighborhood_locations = pd.read_csv(file_path)"
   ]
  },
  {
   "cell_type": "markdown",
   "metadata": {},
   "source": [
    "- - -"
   ]
  },
  {
   "cell_type": "markdown",
   "metadata": {},
   "source": [
    "## Panel Visualizations\n",
    "\n",
    "In this section, you will copy the code for each plot type from your analysis notebook and place it into separate functions that Panel can use to create panes for the dashboard. \n",
    "\n",
    "These functions will convert the plot object to a Panel pane.\n",
    "\n",
    "Be sure to include any DataFrame transformation/manipulation code required along with the plotting code.\n",
    "\n",
    "Return a Panel pane object from each function that can be used to build the dashboard.\n",
    "\n",
    "Note: Remove any `.show()` lines from the code. We want to return the plots instead of showing them. The Panel dashboard will then display the plots."
   ]
  },
  {
   "cell_type": "code",
   "execution_count": null,
   "metadata": {},
   "outputs": [],
   "source": [
    "# Define Panel Visualization Functions\n",
    "def housing_units_per_year():\n",
    "    \"\"\"Housing Units Per Year.\"\"\"\n",
    "    mean_housing_units = sfo_data[\"housing_units\"].groupby([\"year\"]).mean()\n",
    "    mean_housing_units.plot.bar(y='Mean Housing Units',x='Year', ylim=(350000,390000), rot=0, title='Average Hosing Units per Year')\n",
    "    \n",
    "    return housing_units_per_year\n",
    "    \n",
    "    \n",
    "def average_gross_rent():\n",
    "    \"\"\"Average Gross Rent in San Francisco Per Year.\"\"\"\n",
    "    \n",
    "    sfo_data[\"gross_rent\"].groupby([\"year\"]).mean().plot.line(title=\"Average Gross Rent in San Francisco\")\n",
    "    \n",
    "    return average_gross_rent\n",
    "\n",
    "def average_sales_price():\n",
    "    \"\"\"Average Sales Price Per Year.\"\"\"\n",
    "    \n",
    "    sfo_data[\"sale_price_sqr_foot\"].groupby([\"year\"]).mean().plot.line(title=\"Average Sale Price per Square Foot in San Francisco\")\n",
    "    \n",
    "    return average_sales_price\n",
    "\n",
    "def average_price_by_neighborhood():\n",
    "    \"\"\"Average Prices by Neighborhood.\"\"\"\n",
    "    sfo_neighborhood_plot = sfo_neighborhood.hvplot.line(\n",
    "        x=\"year\",\n",
    "        xlabel=\"Year\",\n",
    "        y=\"sale_price_sqr_foot\",\n",
    "        ylabel=\"Sale price per square foot\",\n",
    "        title=\"SF price per sqr foot by neighborhood\",\n",
    "        groupby=\"neighborhood\")\n",
    "    return average_price_by_neighborhood\n",
    "\n",
    "def top_most_expensive_neighborhoods():\n",
    "    \"\"\"Top 10 Most Expensive Neighborhoods.\"\"\"\n",
    "    sfo_neighborhood_top10= sfo_data.groupby([\"neighborhood\"]).mean().sort_values(by=[\"sale_price_sqr_foot\"],ascending=False).reset_index()\n",
    "    sfo_neighborhood_top10.head(10)\n",
    "    \n",
    "    return top_most_expensive_neighborhoods\n",
    "\n",
    "def parallel_coordinates():\n",
    "    \"\"\"Parallel Coordinates Plot.\"\"\"\n",
    "    \n",
    "    bar_plot4 = plt.figure()\n",
    "    px.parallel_coordinates(sfo_neighborhood_top10.head(10), color='sale_price_sqr_foot')\n",
    "    \n",
    "    return parallel_coordinates\n",
    "\n",
    "def parallel_categories():\n",
    "    \"\"\"Parallel Categories Plot.\"\"\"\n",
    "    \n",
    "    parallel_cat = px.parallel_categories(sfo_neighborhood_top10.head(10),dimensions=[\"neighborhood\",\"sale_price_sqr_foot\",\"housing_units\",\"gross_rent\"], color=\"sale_price_sqr_foot\", color_continuous_scale=px.colors.sequential.Inferno,)\n",
    "    parallel_cat.show()\n",
    "    \n",
    "    return parallel_categories\n",
    "\n",
    "def neighborhood_map():\n",
    "    \"\"\"Neighborhood Map\"\"\"\n",
    "    df_neighborhood_mean= sfo_data.groupby([\"neighborhood\"]).mean().reset_index()\n",
    "    df_join = pd.merge(df_neighborhood_locations,df_neighborhood_mean, right_index=True, left_index=True)\n",
    "    map_1 = px.scatter_mapbox(\n",
    "        df_join,\n",
    "        lat=\"Lat\",\n",
    "        lon=\"Lon\",\n",
    "        size=\"sale_price_sqr_foot\",\n",
    "        zoom=10,\n",
    "        color=\"Neighborhood\")\n",
    "    map_1.show()\n",
    "    \n",
    "    return neighborhood_map\n"
   ]
  },
  {
   "cell_type": "markdown",
   "metadata": {},
   "source": [
    "## Panel Dashboard\n",
    "\n",
    "In this section, you will combine all of the plots into a single dashboard view using Panel. Be creative with your dashboard design!"
   ]
  },
  {
   "cell_type": "code",
   "execution_count": null,
   "metadata": {},
   "outputs": [],
   "source": [
    "# YOUR CODE HERE!\n",
    "\n",
    "title = \"##Real Estate Analysis of San Francisco Neighborhoods from 2010-2016\"\n",
    "welcome_tab = pn.Column(pn.Column(title), neighborhood_map())\n",
    "\n",
    "market_analysis_row = pn.Row(housing_units_per_year, average_gross_rent, average_sales_price)\n",
    "\n",
    "neighborhood_analysis_tab = pn.Column(top_most_expensive_neighborhoods, average_price_by_neighborhood)\n",
    "\n",
    "parallel_plots_tab = pn.Column(\n",
    "    parallel_coordinates(),\n",
    "    parallel_categories()\n",
    ")\n",
    "\n",
    "# tabs\n",
    "panel = pn.Tabs((\"welcome\", welcome_tab),(\"Yearly Market Analysis\",market_analysis_row),(\"Neighborhood Analysis\",neighborhood_analysis_tab),\n",
    "(\"Parallel Plots\",parallel_plots_tab))"
   ]
  },
  {
   "cell_type": "markdown",
   "metadata": {},
   "source": [
    "## Serve the Panel Dashboard"
   ]
  },
  {
   "cell_type": "code",
   "execution_count": null,
   "metadata": {},
   "outputs": [],
   "source": [
    "panel.servable()"
   ]
  },
  {
   "cell_type": "code",
   "execution_count": null,
   "metadata": {},
   "outputs": [],
   "source": []
  },
  {
   "cell_type": "code",
   "execution_count": null,
   "metadata": {},
   "outputs": [],
   "source": []
  },
  {
   "cell_type": "code",
   "execution_count": null,
   "metadata": {},
   "outputs": [],
   "source": []
  },
  {
   "cell_type": "code",
   "execution_count": null,
   "metadata": {},
   "outputs": [],
   "source": []
  },
  {
   "cell_type": "code",
   "execution_count": null,
   "metadata": {},
   "outputs": [],
   "source": []
  },
  {
   "cell_type": "code",
   "execution_count": null,
   "metadata": {},
   "outputs": [],
   "source": []
  }
 ],
 "metadata": {
  "file_extension": ".py",
  "kernelspec": {
   "display_name": "firstEnv",
   "language": "python",
   "name": "firstenv"
  },
  "language_info": {
   "codemirror_mode": {
    "name": "ipython",
    "version": 3
   },
   "file_extension": ".py",
   "mimetype": "text/x-python",
   "name": "python",
   "nbconvert_exporter": "python",
   "pygments_lexer": "ipython3",
   "version": "3.7.7"
  },
  "mimetype": "text/x-python",
  "name": "python",
  "npconvert_exporter": "python",
  "pygments_lexer": "ipython3",
  "version": 3
 },
 "nbformat": 4,
 "nbformat_minor": 4
}
