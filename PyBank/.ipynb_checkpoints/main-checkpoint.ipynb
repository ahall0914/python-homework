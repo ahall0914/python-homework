{
 "cells": [
  {
   "cell_type": "code",
   "execution_count": 1,
   "metadata": {},
   "outputs": [
    {
     "name": "stdout",
     "output_type": "stream",
     "text": [
      "This is the current path: /Users/AlexHall/python-homework/PyBank\n"
     ]
    }
   ],
   "source": [
    "# tasked with creating a Python script for analyzing the financial records of your company. \n",
    "# You will be provided with a financial dataset in this file: budget_data.csv. \n",
    "# This dataset is composed of two columns, Date and Profit/Losses.\n",
    "\n",
    "# import from pathlib \n",
    "\n",
    "from pathlib import Path\n",
    "\n",
    "import csv\n",
    "\n",
    "print(f\"This is the current path: {Path.cwd()}\")\n",
    "\n"
   ]
  },
  {
   "cell_type": "code",
   "execution_count": 9,
   "metadata": {},
   "outputs": [],
   "source": [
    "# pull in the CSV file budget_data.csv by setting the csv path\n",
    "\n",
    "csvpath = Path(\"Desktop/Bootcamp Files/cu-nyc-fin-pt-09-2020-u-c/Homework/02-Python/Instructions/PyBank/Resources/budget_data.csv\")\n",
    "\n",
    "import csv"
   ]
  },
  {
   "cell_type": "code",
   "execution_count": null,
   "metadata": {},
   "outputs": [],
   "source": [
    "# open csv file as an object\n",
    "\n",
    "with open(csvpath, \"r\") as csvfile:\n",
    "    \n",
    "    #    # Pass in the csv file to the csv.reader() function\n",
    "    csvreader = csv.reader(csvfile, delimiter=\",\")\n",
    "\n"
   ]
  }
 ],
 "metadata": {
  "kernelspec": {
   "display_name": "Python 3",
   "language": "python",
   "name": "python3"
  },
  "language_info": {
   "codemirror_mode": {
    "name": "ipython",
    "version": 3
   },
   "file_extension": ".py",
   "mimetype": "text/x-python",
   "name": "python",
   "nbconvert_exporter": "python",
   "pygments_lexer": "ipython3",
   "version": "3.8.3"
  }
 },
 "nbformat": 4,
 "nbformat_minor": 4
}
