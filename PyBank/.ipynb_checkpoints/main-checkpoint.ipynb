{
 "cells": [
  {
   "cell_type": "code",
   "execution_count": 2,
   "metadata": {},
   "outputs": [],
   "source": [
    "# tasked with creating a Python script for analyzing the financial records of your company. \n",
    "# You will be provided with a financial dataset in this file: budget_data.csv. \n",
    "# This dataset is composed of two columns, Date and Profit/Losses.\n",
    "\n",
    "# The greatest increase in profits (date and amount) over the entire period.\n",
    "# The greatest decrease in losses (date and amount) over the entire period.\n",
    "\n",
    "# import from pathlib \n",
    "\n",
    "from pathlib import Path\n",
    "\n",
    "import csv\n",
    "\n",
    "# print(f\"This is the current path: {Path.cwd()}\")"
   ]
  },
  {
   "cell_type": "code",
   "execution_count": 3,
   "metadata": {},
   "outputs": [],
   "source": [
    "# pull in the CSV file budget_data.csv by setting the csv path\n",
    "\n",
    "csvpath = Path(\"/Users/AlexHall/python-homework/PyBank/budget_data.csv\")\n"
   ]
  },
  {
   "cell_type": "code",
   "execution_count": 129,
   "metadata": {},
   "outputs": [],
   "source": [
    "# open csv file as an object\n",
    "\n",
    "with open(csvpath, \"r\") as csvfile:\n",
    "    \n",
    "    # Pass in the csv file to the csv.reader() function\n",
    "    csvreader = csv.reader(csvfile, delimiter=\",\")\n",
    "    \n",
    "    # Skip the header labels\n",
    "    \n",
    "    csvheader = next(csvfile)\n",
    "    \n",
    "    # Initialize empty lists \n",
    "    num_month =[]\n",
    "    profit = []\n",
    "    profit_change = []\n",
    "    \n",
    "    # use iteration to place the two rows of data into lists\n",
    "    for row in csvreader:\n",
    "        # Put the months included in the dataset into the num_month list\n",
    "        num_month.append(row[0])\n",
    "        # add into the profit list profit/losses\n",
    "        profit.append(int(row[1]))\n",
    "          \n",
    "    # sums up the profit list to find the net profits and call it tota_pnl\n",
    "    total_pnl =sum(profit)\n",
    "    \n",
    "    # iterate through the profit list to get the monthly change in profits\n",
    "    \n",
    "    for x in range(len(profit)-1):\n",
    "        \n",
    "        # Find the difference between two months and add it to the monthly profit change\n",
    "        profit_change.append(profit[x+1]-profit[x])\n",
    "            \n",
    "# find average of monthly changes \n",
    "average_monthly_change = sum(profit_change)/len(profit_change)\n",
    "\n",
    "\n",
    "# Goal is to find Greatest increase in profits (date and amount)\n",
    "# Use max() and min() funtions to find the max and min amount from the profit_change list\n",
    "\n",
    "maximum_change = max(profit_change)\n",
    "minimum_change = min(profit_change)\n",
    "\n",
    "# Need to find the date as well associated with the change amounts\n",
    "# Match the max and min to the  month using the num_month list and index() funciton for max and min\n",
    "# Add 1 at the end for the month associated with the change to represent the next month's change\n",
    "max_increase_month = profit_change.index(max(profit_change)) + 1\n",
    "max_decrease_month = profit_change.index(min(profit_change)) + 1 \n",
    "\n",
    "\n",
    "#index test\n",
    "#print(max_increase_month)\n",
    "#print(max_decrease_month)\n",
    "\n"
   ]
  },
  {
   "cell_type": "code",
   "execution_count": 128,
   "metadata": {},
   "outputs": [
    {
     "name": "stdout",
     "output_type": "stream",
     "text": [
      "Financial Analysis\n",
      "------------------\n",
      "Total Months: 86\n",
      "Total PNL: $ 38382578\n",
      "Average Change: $ -2315.12\n",
      "Greatest Increase in profits: Feb-2012| $ 1926159\n",
      "Greatest Decrease in profits: Sep-2013| $ -2196167\n"
     ]
    }
   ],
   "source": [
    "print(\"Financial Analysis\")\n",
    "print(\"------------------\")\n",
    "print(f\"Total Months: {len(num_month)}\")\n",
    "print(f\"Total PNL: $ {total_pnl}\")\n",
    "print(f\"Average Change: $ {round(average_monthly_change,2)}\")\n",
    "print(f\"Greatest Increase in profits: {num_month[max_increase_month]}| $ {maximum_change}\")\n",
    "print(f\"Greatest Decrease in profits: {num_month[max_decrease_month]}| $ {minimum_change}\")"
   ]
  },
  {
   "cell_type": "code",
   "execution_count": null,
   "metadata": {},
   "outputs": [],
   "source": []
  },
  {
   "cell_type": "code",
   "execution_count": null,
   "metadata": {},
   "outputs": [],
   "source": []
  }
 ],
 "metadata": {
  "kernelspec": {
   "display_name": "Python 3",
   "language": "python",
   "name": "python3"
  },
  "language_info": {
   "codemirror_mode": {
    "name": "ipython",
    "version": 3
   },
   "file_extension": ".py",
   "mimetype": "text/x-python",
   "name": "python",
   "nbconvert_exporter": "python",
   "pygments_lexer": "ipython3",
   "version": "3.8.3"
  }
 },
 "nbformat": 4,
 "nbformat_minor": 4
}
